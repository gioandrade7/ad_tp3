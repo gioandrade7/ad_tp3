{
 "cells": [
  {
   "cell_type": "markdown",
   "id": "6245c626",
   "metadata": {},
   "source": [
    "# ICC305 Avaliação de Desempenho - 2023/1\n",
    "\n",
    "## Atividade 2\n",
    "\n",
    "**Giovanna** Andrade Santos - 22052563\n",
    "\n",
    "**Marcos** Avner Pimenta de Lima - 21852448"
   ]
  },
  {
   "cell_type": "code",
   "execution_count": 1,
   "id": "81b0e0f9",
   "metadata": {},
   "outputs": [],
   "source": [
    "import pandas as pd\n",
    "import numpy as np\n",
    "import scipy.stats as st\n",
    "import seaborn as sns\n",
    "import math\n",
    "\n",
    "from scipy.stats import chisquare\n",
    "from scipy.stats import chi2_contingency\n",
    "\n",
    "from ad_library import myfunctions\n",
    "from collections import defaultdict"
   ]
  },
  {
   "cell_type": "markdown",
   "id": "b4eb9895",
   "metadata": {},
   "source": [
    "### Gerador G5 (Python)"
   ]
  },
  {
   "cell_type": "code",
   "execution_count": 2,
   "id": "fb0f0b36",
   "metadata": {},
   "outputs": [],
   "source": [
    "import random\n",
    "\n",
    "class G5RandomGenerator():\n",
    "    \n",
    "    def __init__(self, seed):\n",
    "        self.__n0 = seed\n",
    "        random.seed(self.__n0)\n",
    "    \n",
    "    # gera o próximo número com base no último número gerado\n",
    "    def next(self):\n",
    "        return random.random()\n",
    "    \n",
    "    # reinicia o gerador\n",
    "    def reset(self):\n",
    "        random.seed(self.__n0)"
   ]
  },
  {
   "cell_type": "markdown",
   "id": "038fe034",
   "metadata": {},
   "source": [
    "### Geração de uma V.A. Exponencial"
   ]
  },
  {
   "cell_type": "code",
   "execution_count": 3,
   "id": "25406dc2",
   "metadata": {},
   "outputs": [],
   "source": [
    "def va_exp(gerador, beta):\n",
    "    U = gerador.next()\n",
    "    return -beta * math.log(1 - U)"
   ]
  },
  {
   "cell_type": "code",
   "execution_count": 5,
   "id": "c81c0b53",
   "metadata": {},
   "outputs": [],
   "source": [
    "#nº de clientes\n",
    "n1 = 10**3\n",
    "n2 = 10**6\n",
    "n3 = 10**9\n",
    "n4 = 10**12\n",
    "\n",
    "#taxa de entrada --> 9 clientes/s\n",
    "lamb = 9\n",
    "\n",
    "#taxa de serviço --> 10 clientes/s\n",
    "mi = 10"
   ]
  },
  {
   "cell_type": "markdown",
   "id": "29b96f06",
   "metadata": {},
   "source": [
    "### Gerar o tempo de chegada Tc, e tempo de serviço Ts do próximo cliente\n",
    "\n",
    "Como Tc e Ts são V.A. exponenciais, utilizaremos a fórmula da VA exponencial com média beta."
   ]
  },
  {
   "cell_type": "code",
   "execution_count": 45,
   "id": "32e19aa3",
   "metadata": {},
   "outputs": [
    {
     "data": {
      "text/plain": [
       "0.11334003191942232"
      ]
     },
     "execution_count": 45,
     "metadata": {},
     "output_type": "execute_result"
    }
   ],
   "source": [
    "#tempo de chegada do próximo cliente\n",
    "g5 = G5RandomGenerator(42) #instanciando gerador do python\n",
    "beta = 1/9 # taxa média de chegada --> chega 1 cliente a cada 1/9s\n",
    "ts = va_exp(g5, beta)\n",
    "ts"
   ]
  },
  {
   "cell_type": "code",
   "execution_count": 47,
   "id": "6aedf375",
   "metadata": {},
   "outputs": [
    {
     "data": {
      "text/plain": [
       "0.1020060287274801"
      ]
     },
     "execution_count": 47,
     "metadata": {},
     "output_type": "execute_result"
    }
   ],
   "source": [
    "#tempo de serviço do próximo cliente\n",
    "g5 = G5RandomGenerator(42) #instanciando gerador do python\n",
    "beta = 1/10 # taxa média de serviço --> 1 cliente pe atendido por média durante 1/10s\n",
    "tc = va_exp(g5, beta)\n",
    "tc"
   ]
  },
  {
   "cell_type": "code",
   "execution_count": 55,
   "id": "f8cff837",
   "metadata": {},
   "outputs": [
    {
     "name": "stdout",
     "output_type": "stream",
     "text": [
      "Tempo de espera do cliente 0 é 0s\n"
     ]
    }
   ],
   "source": [
    "fila = []\n",
    "servico = 1 #serviço liberado\n",
    "count_cliente = 0\n",
    "tempo_espera = 0\n",
    "tc = 0 #tempo de chegada\n",
    "ts = 0 #tempo de atendimento\n",
    "\n",
    "for i in range(5):\n",
    "    if(len(fila) == 0 and servico):\n",
    "        print(f\"Tempo de espera do cliente {count_cliente} é {tempo_espera}s\")\n",
    "        g5 = G5RandomGenerator(42)\n",
    "        beta = 1/mi\n",
    "        ts = va_exp(g5, beta)"
   ]
  },
  {
   "cell_type": "code",
   "execution_count": null,
   "id": "7d8cfc9e",
   "metadata": {},
   "outputs": [],
   "source": []
  }
 ],
 "metadata": {
  "kernelspec": {
   "display_name": "Python 3 (ipykernel)",
   "language": "python",
   "name": "python3"
  },
  "language_info": {
   "codemirror_mode": {
    "name": "ipython",
    "version": 3
   },
   "file_extension": ".py",
   "mimetype": "text/x-python",
   "name": "python",
   "nbconvert_exporter": "python",
   "pygments_lexer": "ipython3",
   "version": "3.9.13"
  }
 },
 "nbformat": 4,
 "nbformat_minor": 5
}
