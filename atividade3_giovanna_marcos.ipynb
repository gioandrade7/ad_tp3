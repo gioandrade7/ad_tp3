{
 "cells": [
  {
   "cell_type": "markdown",
   "id": "6245c626",
   "metadata": {},
   "source": [
    "# ICC305 Avaliação de Desempenho - 2023/1\n",
    "\n",
    "## Atividade 3\n",
    "\n",
    "**Giovanna** Andrade Santos - 22052563\n",
    "\n",
    "**Marcos** Avner Pimenta de Lima - 21852448"
   ]
  },
  {
   "cell_type": "code",
   "execution_count": 1,
   "id": "81b0e0f9",
   "metadata": {},
   "outputs": [],
   "source": [
    "import pandas as pd\n",
    "import numpy as np\n",
    "import scipy.stats as st\n",
    "import seaborn as sns\n",
    "import math\n",
    "import time\n",
    "\n",
    "from scipy.stats import chisquare\n",
    "from scipy.stats import chi2_contingency\n",
    "\n",
    "from ad_library import myfunctions\n",
    "from collections import defaultdict"
   ]
  },
  {
   "cell_type": "markdown",
   "id": "aabb853c",
   "metadata": {},
   "source": [
    "## Parte 1 - MM1"
   ]
  },
  {
   "cell_type": "code",
   "execution_count": 2,
   "id": "c81c0b53",
   "metadata": {},
   "outputs": [],
   "source": [
    "#nº de clientes\n",
    "n1 = 10 ** 3\n",
    "n2 = 10 ** 6\n",
    "n3 = 10 ** 9\n",
    "n4 = 10 ** 12\n",
    "\n",
    "#taxa de entrada --> 9 clientes/s\n",
    "tc = 9\n",
    "\n",
    "#taxa de serviço --> 10 clientes/s\n",
    "ts = 10"
   ]
  },
  {
   "cell_type": "code",
   "execution_count": 33,
   "id": "7d8cfc9e",
   "metadata": {},
   "outputs": [],
   "source": [
    "\n",
    "def mm1(n=1000, tc=9., ts=10., gerador=myfunctions.G5RandomGenerator()):\n",
    "    lamb = 1. / tc\n",
    "    mu = 1. / ts\n",
    "    fila = list() # fila de espera\n",
    "    # espera = np.zeros(n)\n",
    "    # o vetor de tempos de espera irá armazenar valores em milisegundos (inteiros)\n",
    "    # isso é para economizar memória RAM\n",
    "    espera = np.zeros(n, dtype='uint16')\n",
    "    cont = 0\n",
    "    \n",
    "    prox_chegada = myfunctions.va_exp(lamb, gerador) # computa o tempo da proxima chegada.\n",
    "    prox_atend = prox_chegada + myfunctions.va_exp(mu, gerador) # computa o tempo da conclusao do proximo atendimento.\n",
    "    \n",
    "    # inicia a simulação da fila MM1.\n",
    "    while n > 0:\n",
    "\n",
    "        while prox_chegada < prox_atend:\n",
    "            # simula a proxima chegada\n",
    "            fila.append(prox_chegada)\n",
    "            prox_chegada += myfunctions.va_exp(lamb, gerador)\n",
    "\n",
    "        # Next event is a service completion.\n",
    "        if fila:\n",
    "            chegada = fila.pop(0)\n",
    "            # para redução do consumo de RAM os tempos de espera são convertidos para milisegundos (inteiros)\n",
    "            e = int((prox_atend - chegada) * 1000)\n",
    "            espera[cont] = e if e > 0 else 0\n",
    "            # espera[cont] = prox_atend - chegada\n",
    "            cont += 1\n",
    "\n",
    "        # atualiza a fila de espera.\n",
    "        if fila:\n",
    "            # se a fila não estiver vazia, o termino do proximo atendimento \n",
    "            # é incrementando com o ts\n",
    "            prox_atend += myfunctions.va_exp(mu, gerador)\n",
    "        else:\n",
    "            # se a fila estiver vazia, o termino do próximo atendimento\n",
    "            # é incrementando com o (tc + ts)\n",
    "            prox_atend = prox_chegada + myfunctions.va_exp(mu, gerador)\n",
    "        \n",
    "        n -= 1\n",
    "    return espera"
   ]
  },
  {
   "cell_type": "code",
   "execution_count": 34,
   "id": "bcdea6d5",
   "metadata": {},
   "outputs": [],
   "source": [
    "#função para calcular intervalo de confiança\n",
    "def ic(n, media, values: list, alpha=.05):\n",
    "    std = np.std(values)\n",
    "    H = st.t.ppf(q=1. - alpha / 2., df=n-1) * std\n",
    "    li = media - H\n",
    "    ls = media + H\n",
    "    return (li, ls)"
   ]
  },
  {
   "cell_type": "code",
   "execution_count": 18,
   "id": "0679f92b",
   "metadata": {},
   "outputs": [
    {
     "name": "stdout",
     "output_type": "stream",
     "text": [
      "Iniciando simulação para n=1000\n",
      "Fim da simulação!\n",
      "Tempo: 0.055075883865356445ms\n",
      "Salvando tempos de espera\n",
      "Calculando intervalo de confiança\n",
      "N: 1000\n",
      "Espera total: 673838 ms\n",
      "Espera Média: 673.838 ms\n",
      "Espera IC: (-396.5929554419736, 1744.2689554419735) ms\n",
      "\n",
      "Iniciando simulação para n=1000000\n",
      "Fim da simulação!\n",
      "Tempo: 0.9812638759613037ms\n",
      "Salvando tempos de espera\n",
      "Calculando intervalo de confiança\n",
      "N: 1000000\n",
      "Espera total: 1003611329 ms\n",
      "Espera Média: 1003.611329 ms\n",
      "Espera IC: (-961.434759208849, 2968.657417208849) ms\n",
      "\n",
      "Iniciando simulação para n=1000000000\n",
      "Fim da simulação!\n",
      "Tempo: 1006.5161719322205ms\n",
      "Salvando tempos de espera\n",
      "Calculando intervalo de confiança\n",
      "N: 1000000000\n",
      "Espera total: 1000629351149 ms\n",
      "Espera Média: 1000.629351149 ms\n",
      "Espera IC: (-964.2031208617949, 2965.4618231597947) ms\n",
      "\n"
     ]
    }
   ],
   "source": [
    "g5 = myfunctions.G5RandomGenerator()\n",
    "g5.reset() # reinicia o gerador com a seed para replicação de resultados\n",
    "\n",
    "for n in [n1, n2, n3]:    \n",
    "    print(f'Iniciando simulação para n={n}')\n",
    "    start = time.time()\n",
    "    tot_espera = mm1(n, tc, ts, g5)\n",
    "    end = time.time()\n",
    "    print(f'Fim da simulação!')\n",
    "    print(f'Tempo: {end-start} ms')\n",
    "    \n",
    "    print('Salvando tempos de espera')\n",
    "    with open(f'mm1_n{n}', 'wb') as f:\n",
    "        np.save(f, tot_espera)\n",
    "        \n",
    "    print('Calculando intervalo de confiança')\n",
    "    soma = np.sum(tot_espera)\n",
    "    media = myfunctions.mean(tot_espera)\n",
    "    inter_conf = ic(n, media, tot_espera)\n",
    "    \n",
    "    print(f'N: {n}')\n",
    "    print(f'Espera total: {soma} ms')\n",
    "    print(f'Espera Média: {media} ms')\n",
    "    print(f'Espera IC: {inter_conf} ms')\n",
    "    print()"
   ]
  },
  {
   "cell_type": "code",
   "execution_count": 23,
   "id": "19bf4aff",
   "metadata": {},
   "outputs": [
    {
     "name": "stdout",
     "output_type": "stream",
     "text": [
      "O valor esperado do tempo de espera para os valores de lambda e mi é 0.9 segundos\n"
     ]
    }
   ],
   "source": [
    "valor_esperado = myfunctions.valor_esperado(tc, ts)\n",
    "print(f'O valor esperado do tempo de espera para os valores de lambda e mi é {valor_esperado:.5} segundos')"
   ]
  },
  {
   "cell_type": "markdown",
   "id": "1710f7a7",
   "metadata": {},
   "source": [
    "O valor médio esperado é de aproximadamente `0.9 segundos`.\n",
    "\n",
    "Para `n=1000` o tempo médio $\\overline{X}(n)$ foi de aproximadamente `0.673 segundos` bem longe do valor esperado, embora o intervalo de confiança `[-0.396, 1.733]`  contenha o valor esperado.\n",
    "\n",
    "Para `n=1000000` o tempo médio $\\overline{X}(n)$ foi de aproximadamente `1.003 segundos`, mais próximo do valor esperado, e o intervalo de confiança `[-0.961, 2.968]` também contem o valor esperado.\n",
    "\n",
    "Para `n=1000000000` o tempo médio $\\overline{X}(n)$ foi de aproximadamente `1.000 segundos`, um pouco mais próximo do valor esperado, e novamente intervalo de confiança `[-0.961, 2.968]` contem o valor esperado."
   ]
  },
  {
   "cell_type": "code",
   "execution_count": 26,
   "id": "94fc22cd",
   "metadata": {},
   "outputs": [
    {
     "data": {
      "text/plain": [
       "array([0., 3., 0., 0., 0., 2., 0., 0., 0., 0.])"
      ]
     },
     "execution_count": 26,
     "metadata": {},
     "output_type": "execute_result"
    }
   ],
   "source": [
    "e = np.zeros(10)\n",
    "e[1] = 3\n",
    "e[5] = -1\n",
    "e[5] = 2\n",
    "e"
   ]
  },
  {
   "cell_type": "code",
   "execution_count": 27,
   "id": "fdd8f7ac",
   "metadata": {},
   "outputs": [
    {
     "data": {
      "text/plain": [
       "array([0., 3., 0., 0., 0., 2., 0., 0., 0., 0., 0., 3., 0., 0., 0., 2., 0.,\n",
       "       0., 0., 0., 0., 3., 0., 0., 0., 2., 0., 0., 0., 0., 0., 3., 0., 0.,\n",
       "       0., 2., 0., 0., 0., 0., 0., 3., 0., 0., 0., 2., 0., 0., 0., 0.])"
      ]
     },
     "execution_count": 27,
     "metadata": {},
     "output_type": "execute_result"
    }
   ],
   "source": [
    "e = np.resize(e, (50, ))\n",
    "e"
   ]
  },
  {
   "cell_type": "markdown",
   "id": "fcf75d29",
   "metadata": {},
   "source": [
    "## Parte 2 - Chow e Robbins"
   ]
  },
  {
   "cell_type": "code",
   "execution_count": 47,
   "id": "fd912122",
   "metadata": {},
   "outputs": [],
   "source": [
    "\n",
    "def mm1_v2(d, batch=10, tc=9., ts=10., gerador=myfunctions.G5RandomGenerator()):\n",
    "    lamb = 1. / tc\n",
    "    mu = 1. / ts\n",
    "    fila = list() # fila de espera\n",
    "    H = 0\n",
    "    n = 10\n",
    "    \n",
    "    # o vetor de tempos de espera irá armazenar valores em milisegundos (inteiros)\n",
    "    # isso é para economizar memória RAM\n",
    "    espera = np.zeros(n)\n",
    "    cont = 0   \n",
    "    \n",
    "    # inicia a simulação da fila MM1 (Chow e Robbins)\n",
    "    while H <= d:\n",
    "\n",
    "        prox_chegada = myfunctions.va_exp(lamb, gerador) # computa o tempo da proxima chegada.\n",
    "        prox_atend = prox_chegada + myfunctions.va_exp(mu, gerador) # computa o tempo da conclusao do proximo atendimento.\n",
    "        x = cont\n",
    "        \n",
    "        while x < n:\n",
    "            while prox_chegada < prox_atend:\n",
    "                # simula a proxima chegada\n",
    "                fila.append(prox_chegada)\n",
    "                prox_chegada += myfunctions.va_exp(lamb, gerador)\n",
    "\n",
    "            # Next event is a service completion.\n",
    "            if fila:\n",
    "                chegada = fila.pop(0)\n",
    "                e = prox_atend - chegada\n",
    "                # esperas negativas, significam que a chega ocorre apos o termino do atendimento\n",
    "                # logo não houve espera, por isso adotamos como zero\n",
    "                espera[cont] = e if e > 0 else 0.\n",
    "                # espera[cont] = prox_atend - chegada\n",
    "                cont += 1\n",
    "\n",
    "            # atualiza a fila de espera.\n",
    "            if fila:\n",
    "                # se a fila não estiver vazia, o termino do proximo atendimento \n",
    "                # é incrementando com o ts\n",
    "                prox_atend += myfunctions.va_exp(mu, gerador)\n",
    "            else:\n",
    "                # se a fila estiver vazia, o termino do próximo atendimento\n",
    "                # é incrementando com o (tc + ts)\n",
    "                prox_atend = prox_chegada + myfunctions.va_exp(mu, gerador)\n",
    "            x += 1\n",
    "        \n",
    "        std = np.std(espera)\n",
    "        H = st.t.ppf(q=1. - .05 / 2., df=n-1) * std\n",
    "        print(f'H={H}, n={n}')\n",
    "        n += batch\n",
    "        espera = np.resize(espera, (n, ))\n",
    "        \n",
    "    return (n, espera)"
   ]
  },
  {
   "cell_type": "markdown",
   "id": "6657f96b",
   "metadata": {},
   "source": [
    "### d = 0.1"
   ]
  },
  {
   "cell_type": "code",
   "execution_count": 52,
   "id": "a7c4cfe2",
   "metadata": {},
   "outputs": [
    {
     "name": "stdout",
     "output_type": "stream",
     "text": [
      "H=0.23086778937644267, n=10\n"
     ]
    },
    {
     "data": {
      "text/plain": [
       "(11,\n",
       " array([0.14186292, 0.13313644, 0.13598471, 0.12117453, 0.08755856,\n",
       "        0.07025651, 0.12980219, 0.02883574, 0.40620018, 0.25867514,\n",
       "        0.14186292]))"
      ]
     },
     "execution_count": 52,
     "metadata": {},
     "output_type": "execute_result"
    }
   ],
   "source": [
    "g5 = myfunctions.G5RandomGenerator()\n",
    "g5.reset() # reinicia o gerador com a seed para replicação de resultados\n",
    "\n",
    "n = mm1_v2(.1, 1, tc, ts, g5)\n",
    "n"
   ]
  },
  {
   "cell_type": "markdown",
   "id": "b3815a3b",
   "metadata": {},
   "source": [
    "### d = 0.5"
   ]
  },
  {
   "cell_type": "code",
   "execution_count": 59,
   "id": "71ad27c3",
   "metadata": {},
   "outputs": [
    {
     "name": "stdout",
     "output_type": "stream",
     "text": [
      "H=0.23086778937644267, n=10\n",
      "H=0.3011094551839147, n=17\n",
      "H=0.28855613282764486, n=24\n",
      "H=0.29819283107558786, n=31\n",
      "H=0.30455934052523886, n=38\n",
      "H=0.3267244033476495, n=45\n",
      "H=0.3295927748943015, n=52\n",
      "H=0.38024674663601704, n=59\n",
      "H=0.3739906206584639, n=66\n",
      "H=0.38116995330094716, n=73\n",
      "H=0.3663896751241286, n=80\n",
      "H=0.35989216998537715, n=87\n",
      "H=0.3666854475682198, n=94\n",
      "H=0.37072702323926643, n=101\n",
      "H=0.38218472093305955, n=108\n",
      "H=0.42992655286660963, n=115\n",
      "H=0.43204565667668926, n=122\n",
      "H=0.436471643850262, n=129\n",
      "H=0.44020870085474306, n=136\n",
      "H=0.436148591456043, n=143\n",
      "H=0.4384290746025827, n=150\n",
      "H=0.4340625566737429, n=157\n",
      "H=0.4867423056975035, n=164\n",
      "H=0.4876878472974787, n=171\n",
      "H=0.48143247505058545, n=178\n",
      "H=0.479209928776354, n=185\n",
      "H=0.47907707714700715, n=192\n",
      "H=0.49173840014608794, n=199\n",
      "H=0.4988220683465792, n=206\n",
      "H=0.4966918316866844, n=213\n",
      "H=0.49173604847424696, n=220\n",
      "H=0.4948565917028831, n=227\n",
      "H=0.491539592081621, n=234\n",
      "H=0.4897289643187061, n=241\n",
      "H=0.4841065228615082, n=248\n",
      "H=0.48472663786173126, n=255\n",
      "H=0.4792070446654672, n=262\n",
      "H=0.47333189146794075, n=269\n",
      "H=0.4689747190486866, n=276\n",
      "H=0.4677491765199736, n=283\n",
      "H=0.5208295672357821, n=290\n"
     ]
    },
    {
     "data": {
      "text/plain": [
       "(297,\n",
       " array([0.14186292, 0.13313644, 0.13598471, 0.12117453, 0.08755856,\n",
       "        0.07025651, 0.12980219, 0.02883574, 0.40620018, 0.25867514,\n",
       "        0.        , 0.15828147, 0.48642715, 0.45333034, 0.34548972,\n",
       "        0.27488245, 0.17932039, 0.        , 0.        , 0.13533261,\n",
       "        0.20438523, 0.3433716 , 0.30965373, 0.28774954, 0.27005855,\n",
       "        0.42568009, 0.42907233, 0.38142075, 0.35220449, 0.35656006,\n",
       "        0.04859723, 0.02066915, 0.10690323, 0.24435409, 0.4187043 ,\n",
       "        0.48968773, 0.28203662, 0.04964233, 0.18936989, 0.08911133,\n",
       "        0.08667747, 0.57894653, 0.5538756 , 0.46389127, 0.3011708 ,\n",
       "        0.        , 0.        , 0.        , 0.        , 0.19110771,\n",
       "        0.24388147, 0.15180949, 0.        , 0.47961059, 0.43769522,\n",
       "        0.4099785 , 0.68227264, 0.78394987, 0.42741226, 0.        ,\n",
       "        0.        , 0.11635849, 0.06073201, 0.16160339, 0.31486662,\n",
       "        0.32904416, 0.        , 0.        , 0.        , 0.        ,\n",
       "        0.        , 0.        , 0.        , 0.23562603, 0.31471901,\n",
       "        0.34087788, 0.29643758, 0.30085843, 0.26890803, 0.19889394,\n",
       "        0.        , 0.18530894, 0.190576  , 0.20431425, 0.2090328 ,\n",
       "        0.        , 0.        , 0.11971125, 0.20768594, 0.04449698,\n",
       "        0.        , 0.00502754, 0.58415008, 0.51340032, 0.        ,\n",
       "        0.        , 0.44186847, 0.4712105 , 0.4244053 , 0.40308848,\n",
       "        0.393708  , 0.        , 0.        , 0.        , 0.        ,\n",
       "        0.52967081, 0.47767387, 0.58250204, 0.49112697, 0.54493721,\n",
       "        0.47681207, 0.69390686, 0.6354539 , 0.67655291, 1.00679066,\n",
       "        0.        , 0.        , 0.        , 0.        , 0.        ,\n",
       "        0.        , 0.        , 0.        , 0.        , 0.        ,\n",
       "        0.32069029, 0.39935441, 0.40846515, 0.71981234, 0.        ,\n",
       "        0.        , 0.27259325, 0.3632108 , 0.59103076, 0.59225908,\n",
       "        0.51429997, 0.        , 0.        , 0.05995825, 0.37453911,\n",
       "        0.24314915, 0.01501588, 0.111937  , 0.        , 0.        ,\n",
       "        0.        , 0.        , 0.        , 0.54443785, 0.47643803,\n",
       "        0.06777568, 0.1812675 , 0.15169504, 0.01041455, 0.        ,\n",
       "        0.        , 0.082505  , 0.        , 0.        , 0.        ,\n",
       "        0.        , 1.02634978, 1.06765687, 1.13638263, 0.        ,\n",
       "        0.        , 0.        , 0.52775838, 0.44061969, 0.46562473,\n",
       "        0.58551213, 0.        , 0.13580565, 0.10704991, 0.15237736,\n",
       "        0.23716651, 0.06030283, 0.0205242 , 0.        , 0.        ,\n",
       "        0.05394602, 0.01895564, 0.        , 0.        , 0.        ,\n",
       "        0.        , 0.        , 0.        , 0.        , 0.46660136,\n",
       "        0.46197315, 0.53513673, 0.        , 0.        , 0.        ,\n",
       "        0.        , 0.6526316 , 0.7560986 , 0.8368482 , 0.30164655,\n",
       "        0.28092274, 0.09622407, 0.13349409, 0.79420911, 0.74118131,\n",
       "        0.66311787, 0.        , 0.        , 0.54819178, 0.42888558,\n",
       "        0.42107311, 0.19581197, 0.        , 0.17394061, 0.13192057,\n",
       "        0.        , 0.10113145, 0.37454323, 0.09274487, 0.        ,\n",
       "        0.17915954, 0.0562072 , 0.        , 0.00835282, 0.19226745,\n",
       "        0.74348884, 0.69806312, 0.        , 0.        , 0.        ,\n",
       "        0.        , 0.40671356, 0.21244835, 0.33288731, 0.        ,\n",
       "        0.        , 0.        , 0.        , 0.        , 0.        ,\n",
       "        0.40366986, 0.46175074, 0.36725698, 0.23684325, 0.25513632,\n",
       "        0.22314845, 0.27829868, 0.27792074, 0.        , 0.        ,\n",
       "        0.        , 0.        , 0.        , 0.        , 0.63850354,\n",
       "        0.05423176, 0.16712539, 0.14185356, 0.08441501, 0.19436864,\n",
       "        0.13232395, 0.12729603, 0.18577785, 0.19468308, 0.26784045,\n",
       "        0.23309365, 0.28512593, 0.2973767 , 0.33798392, 0.        ,\n",
       "        0.        , 0.25169964, 0.28109542, 0.10600555, 0.16616938,\n",
       "        0.171534  , 0.        , 0.        , 0.        , 0.        ,\n",
       "        0.        , 0.        , 0.        , 0.05957261, 0.1105993 ,\n",
       "        0.82212483, 0.77798469, 0.68454698, 1.4914203 , 1.54670235,\n",
       "        0.14186292, 0.13313644, 0.13598471, 0.12117453, 0.08755856,\n",
       "        0.07025651, 0.12980219]))"
      ]
     },
     "execution_count": 59,
     "metadata": {},
     "output_type": "execute_result"
    }
   ],
   "source": [
    "g5 = myfunctions.G5RandomGenerator()\n",
    "g5.reset() # reinicia o gerador com a seed para replicação de resultados\n",
    "\n",
    "n = mm1_v2(.5, 7, tc, ts, g5)\n",
    "n"
   ]
  },
  {
   "cell_type": "markdown",
   "id": "a70e4023",
   "metadata": {},
   "source": [
    "### d = 1.0"
   ]
  },
  {
   "cell_type": "code",
   "execution_count": 68,
   "id": "0fc04a8c",
   "metadata": {},
   "outputs": [
    {
     "name": "stdout",
     "output_type": "stream",
     "text": [
      "H=0.23086778937644267, n=10\n",
      "H=0.2781649694580492, n=28\n",
      "H=0.3192451536219535, n=46\n",
      "H=0.45452527750406513, n=64\n",
      "H=0.5308695462957245, n=82\n",
      "H=0.6258592867544454, n=100\n",
      "H=0.6851490297343493, n=118\n",
      "H=0.6625400517036096, n=136\n",
      "H=0.9544261845522064, n=154\n",
      "H=0.9374787351143783, n=172\n",
      "H=1.013423243364637, n=190\n"
     ]
    },
    {
     "data": {
      "text/plain": [
       "(208,\n",
       " array([0.14186292, 0.13313644, 0.13598471, 0.12117453, 0.08755856,\n",
       "        0.07025651, 0.12980219, 0.02883574, 0.40620018, 0.25867514,\n",
       "        0.        , 0.15828147, 0.48642715, 0.45333034, 0.34548972,\n",
       "        0.27488245, 0.17932039, 0.2012262 , 0.14479979, 0.06803847,\n",
       "        0.0279596 , 0.20438523, 0.3433716 , 0.30965373, 0.28774954,\n",
       "        0.03857428, 0.27005855, 0.42568009, 0.        , 0.        ,\n",
       "        0.        , 0.        , 0.18343556, 0.17752661, 0.14701002,\n",
       "        0.23759923, 0.41194944, 0.48293286, 0.27528176, 0.04964233,\n",
       "        0.03224587, 0.18936989, 0.08911133, 0.08667747, 0.57894653,\n",
       "        0.5538756 , 0.        , 0.        , 0.        , 0.        ,\n",
       "        0.43107722, 0.49363421, 0.58008947, 0.40693842, 0.49594244,\n",
       "        0.56415087, 0.82505501, 0.577939  , 0.49799938, 0.71927017,\n",
       "        0.69286072, 0.73186528, 0.7493187 , 0.45880827, 0.        ,\n",
       "        0.        , 0.        , 0.        , 0.        , 0.        ,\n",
       "        0.        , 0.        , 0.        , 0.97655758, 0.81827814,\n",
       "        0.82654449, 0.78470166, 0.40843413, 0.51168231, 0.47425879,\n",
       "        0.70941182, 0.73091103, 0.        , 0.        , 0.        ,\n",
       "        0.        , 0.        , 0.        , 0.        , 0.        ,\n",
       "        0.6374154 , 0.59511471, 0.66174495, 0.72043211, 0.89051117,\n",
       "        1.02567574, 1.14015495, 1.00899243, 0.88325369, 1.00723065,\n",
       "        0.        , 0.        , 0.        , 0.        , 0.        ,\n",
       "        0.        , 0.        , 0.        , 1.00798198, 0.98007365,\n",
       "        1.02696283, 0.99178525, 0.94091398, 0.92872348, 0.70301594,\n",
       "        0.80554231, 0.67352016, 0.89614425, 0.        , 0.        ,\n",
       "        0.        , 0.        , 0.        , 0.51218847, 0.37881564,\n",
       "        0.27682572, 0.05848787, 0.15588549, 0.11193884, 0.10024666,\n",
       "        0.14578987, 0.20541995, 0.03473005, 0.02740502, 0.09594392,\n",
       "        0.12751655, 0.        , 0.        , 0.        , 0.        ,\n",
       "        1.11152598, 1.13793072, 1.13253124, 1.11263199, 1.4970331 ,\n",
       "        1.57816763, 1.66402907, 1.40704634, 1.29817647, 1.58618646,\n",
       "        1.98374719, 1.84583651, 1.89089664, 2.10011319, 0.        ,\n",
       "        0.        , 0.        , 0.        , 0.        , 0.        ,\n",
       "        0.        , 0.        , 0.        , 0.        , 0.        ,\n",
       "        0.        , 0.        , 0.        , 0.        , 0.        ,\n",
       "        0.        , 0.        , 0.        , 0.        , 0.        ,\n",
       "        0.        , 0.        , 0.        , 1.10454554, 1.14131606,\n",
       "        1.22088186, 1.20404095, 1.23567241, 1.21238759, 1.18429593,\n",
       "        1.12777659, 1.23525435, 1.63896367, 1.6454806 , 1.72342981,\n",
       "        0.14186292, 0.13313644, 0.13598471, 0.12117453, 0.08755856,\n",
       "        0.07025651, 0.12980219, 0.02883574, 0.40620018, 0.25867514,\n",
       "        0.        , 0.15828147, 0.48642715, 0.45333034, 0.34548972,\n",
       "        0.27488245, 0.17932039, 0.2012262 ]))"
      ]
     },
     "execution_count": 68,
     "metadata": {},
     "output_type": "execute_result"
    }
   ],
   "source": [
    "g5 = myfunctions.G5RandomGenerator()\n",
    "g5.reset() # reinicia o gerador com a seed para replicação de resultados\n",
    "\n",
    "n = mm1_v2(1., 18, tc, ts, g5)\n",
    "n"
   ]
  },
  {
   "cell_type": "markdown",
   "id": "4485bdf1",
   "metadata": {},
   "source": [
    "### d = 2.0"
   ]
  },
  {
   "cell_type": "code",
   "execution_count": 86,
   "id": "809cb5c9",
   "metadata": {},
   "outputs": [
    {
     "name": "stdout",
     "output_type": "stream",
     "text": [
      "H=0.23086778937644267, n=10\n",
      "H=0.29920699257705013, n=60\n",
      "H=0.42382495737251163, n=110\n",
      "H=1.4888038093728433, n=160\n",
      "H=2.5414634872637962, n=210\n"
     ]
    },
    {
     "data": {
      "text/plain": [
       "(260,\n",
       " array([1.41862915e-01, 1.33136440e-01, 1.35984714e-01, 1.21174533e-01,\n",
       "        8.75585639e-02, 7.02565102e-02, 1.29802187e-01, 2.88357422e-02,\n",
       "        4.06200184e-01, 2.58675140e-01, 0.00000000e+00, 1.58281475e-01,\n",
       "        4.86427153e-01, 4.53330341e-01, 3.45489716e-01, 2.74882448e-01,\n",
       "        1.79320391e-01, 2.01226196e-01, 1.44799790e-01, 6.80384701e-02,\n",
       "        2.79596022e-02, 2.04385228e-01, 3.43371604e-01, 3.09653727e-01,\n",
       "        2.87749541e-01, 3.85742785e-02, 2.70058549e-01, 4.25680086e-01,\n",
       "        4.29072335e-01, 3.81420748e-01, 3.52204494e-01, 3.56560063e-01,\n",
       "        4.85972286e-02, 3.42954505e-02, 1.05839931e-01, 1.47601950e-01,\n",
       "        2.38191160e-01, 4.12541369e-01, 4.83524797e-01, 2.75873691e-01,\n",
       "        4.96423255e-02, 3.22458657e-02, 1.89369894e-01, 8.91113319e-02,\n",
       "        8.66774666e-02, 5.78946528e-01, 5.53875599e-01, 4.63891265e-01,\n",
       "        3.01170797e-01, 3.16524407e-01, 4.00751649e-01, 3.00838496e-01,\n",
       "        2.85725215e-01, 2.59253016e-01, 4.55146479e-01, 2.69813849e-01,\n",
       "        3.65456388e-01, 3.56469527e-01, 3.17807004e-01, 1.94705521e-01,\n",
       "        0.00000000e+00, 0.00000000e+00, 1.84075670e-01, 2.24825261e-01,\n",
       "        2.09255658e-01, 3.00996842e-02, 4.54982014e-02, 1.98838699e-02,\n",
       "        4.01750237e-03, 4.44263890e-01, 4.38123257e-01, 5.00455986e-01,\n",
       "        6.94081882e-01, 5.33520336e-01, 2.83832210e-01, 3.68017433e-01,\n",
       "        2.61939995e-01, 1.18282394e-01, 1.37588911e-01, 1.23165514e-01,\n",
       "        7.31140336e-02, 1.13886203e-01, 1.25142970e-03, 4.09347466e-02,\n",
       "        6.31985341e-02, 6.99829810e-02, 3.39505914e-02, 2.93568826e-01,\n",
       "        2.31070247e-01, 1.76760500e-01, 3.71973023e-02, 2.13576389e-02,\n",
       "        2.73668667e-02, 4.75857643e-02, 8.39680264e-02, 1.45518244e-01,\n",
       "        9.31301401e-02, 9.18863150e-02, 3.00060940e-02, 7.77388147e-02,\n",
       "        8.24178673e-02, 2.15308941e-01, 3.47447184e-01, 3.26711603e-01,\n",
       "        1.00212943e+00, 8.69546151e-01, 7.97079609e-01, 8.12021127e-01,\n",
       "        8.77487944e-01, 7.44111219e-01, 0.00000000e+00, 0.00000000e+00,\n",
       "        0.00000000e+00, 0.00000000e+00, 0.00000000e+00, 3.26913469e-01,\n",
       "        6.03266596e-02, 1.97587394e-01, 2.24302051e-01, 1.75179177e-01,\n",
       "        6.01582486e-02, 4.15131434e-03, 8.17250554e-02, 2.78772347e-01,\n",
       "        1.32246279e-01, 2.34004283e-01, 3.13361497e-01, 1.98212602e-01,\n",
       "        1.73113370e-01, 2.77228773e-01, 2.32734613e-01, 2.35949210e-01,\n",
       "        2.35653709e-01, 5.91851621e-01, 5.25039277e-01, 4.70939254e-01,\n",
       "        6.72272140e-01, 9.90404841e-01, 1.03476401e+00, 1.24835974e+00,\n",
       "        1.54325931e+00, 1.58599887e+00, 1.64756736e+00, 1.73929894e+00,\n",
       "        2.17731783e+00, 2.24103857e+00, 2.43010158e+00, 2.44169133e+00,\n",
       "        2.37460790e+00, 2.46597391e+00, 2.82657982e+00, 2.77018041e+00,\n",
       "        2.68862736e+00, 2.83693537e+00, 2.83593104e+00, 2.65514611e+00,\n",
       "        2.61469212e+00, 2.67325479e+00, 2.58477255e+00, 2.61879061e+00,\n",
       "        0.00000000e+00, 0.00000000e+00, 0.00000000e+00, 0.00000000e+00,\n",
       "        0.00000000e+00, 0.00000000e+00, 0.00000000e+00, 0.00000000e+00,\n",
       "        0.00000000e+00, 0.00000000e+00, 0.00000000e+00, 0.00000000e+00,\n",
       "        0.00000000e+00, 0.00000000e+00, 0.00000000e+00, 0.00000000e+00,\n",
       "        0.00000000e+00, 0.00000000e+00, 0.00000000e+00, 0.00000000e+00,\n",
       "        0.00000000e+00, 0.00000000e+00, 0.00000000e+00, 0.00000000e+00,\n",
       "        0.00000000e+00, 0.00000000e+00, 0.00000000e+00, 0.00000000e+00,\n",
       "        0.00000000e+00, 0.00000000e+00, 3.97298850e+00, 4.01154298e+00,\n",
       "        4.04205435e+00, 4.07646259e+00, 4.11919756e+00, 4.12207814e+00,\n",
       "        4.07867247e+00, 4.22642767e+00, 4.37721580e+00, 4.35745592e+00,\n",
       "        4.42711824e+00, 4.48240510e+00, 4.25180101e+00, 4.23304665e+00,\n",
       "        4.24824937e+00, 4.09850635e+00, 3.95038104e+00, 3.96017188e+00,\n",
       "        4.14839496e+00, 4.09959446e+00, 1.41862915e-01, 1.33136440e-01,\n",
       "        1.35984714e-01, 1.21174533e-01, 8.75585639e-02, 7.02565102e-02,\n",
       "        1.29802187e-01, 2.88357422e-02, 4.06200184e-01, 2.58675140e-01,\n",
       "        0.00000000e+00, 1.58281475e-01, 4.86427153e-01, 4.53330341e-01,\n",
       "        3.45489716e-01, 2.74882448e-01, 1.79320391e-01, 2.01226196e-01,\n",
       "        1.44799790e-01, 6.80384701e-02, 2.79596022e-02, 2.04385228e-01,\n",
       "        3.43371604e-01, 3.09653727e-01, 2.87749541e-01, 3.85742785e-02,\n",
       "        2.70058549e-01, 4.25680086e-01, 4.29072335e-01, 3.81420748e-01,\n",
       "        3.52204494e-01, 3.56560063e-01, 4.85972286e-02, 3.42954505e-02,\n",
       "        1.05839931e-01, 1.47601950e-01, 2.38191160e-01, 4.12541369e-01,\n",
       "        4.83524797e-01, 2.75873691e-01, 4.96423255e-02, 3.22458657e-02,\n",
       "        1.89369894e-01, 8.91113319e-02, 8.66774666e-02, 5.78946528e-01,\n",
       "        5.53875599e-01, 4.63891265e-01, 3.01170797e-01, 3.16524407e-01]))"
      ]
     },
     "execution_count": 86,
     "metadata": {},
     "output_type": "execute_result"
    }
   ],
   "source": [
    "g5 = myfunctions.G5RandomGenerator()\n",
    "g5.reset() # reinicia o gerador com a seed para replicação de resultados\n",
    "\n",
    "n = mm1_v2(2., 50, tc, ts, g5)\n",
    "n"
   ]
  },
  {
   "cell_type": "markdown",
   "id": "1712a517",
   "metadata": {},
   "source": [
    "## Parte 3"
   ]
  },
  {
   "cell_type": "code",
   "execution_count": 94,
   "id": "7dc5509c",
   "metadata": {},
   "outputs": [],
   "source": [
    "\n",
    "def mm1_v3(gamma, batch=10, tc=9., ts=10., gerador=myfunctions.G5RandomGenerator()):\n",
    "    lamb = 1. / tc\n",
    "    mu = 1. / ts\n",
    "    fila = list() # fila de espera\n",
    "    H = 0\n",
    "    n = 10\n",
    "    \n",
    "    # o vetor de tempos de espera irá armazenar valores em milisegundos (inteiros)\n",
    "    # isso é para economizar memória RAM\n",
    "    espera = np.zeros(n)\n",
    "    cont = 0\n",
    "    xn = 0.0000000000000000000001\n",
    "    \n",
    "    # inicia a simulação da fila MM1 (Chow e Robbins)\n",
    "    while H/xn <= gamma:\n",
    "\n",
    "        prox_chegada = myfunctions.va_exp(lamb, gerador) # computa o tempo da proxima chegada.\n",
    "        prox_atend = prox_chegada + myfunctions.va_exp(mu, gerador) # computa o tempo da conclusao do proximo atendimento.\n",
    "        x = cont\n",
    "        \n",
    "        while x < n:\n",
    "            while prox_chegada < prox_atend:\n",
    "                # simula a proxima chegada\n",
    "                fila.append(prox_chegada)\n",
    "                prox_chegada += myfunctions.va_exp(lamb, gerador)\n",
    "\n",
    "            # Next event is a service completion.\n",
    "            if fila:\n",
    "                chegada = fila.pop(0)\n",
    "                e = prox_atend - chegada\n",
    "                # esperas negativas, significam que a chega ocorre apos o termino do atendimento\n",
    "                # logo não houve espera, por isso adotamos como zero\n",
    "                espera[cont] = e if e > 0 else 0.\n",
    "                # espera[cont] = prox_atend - chegada\n",
    "                cont += 1\n",
    "\n",
    "            # atualiza a fila de espera.\n",
    "            if fila:\n",
    "                # se a fila não estiver vazia, o termino do proximo atendimento \n",
    "                # é incrementando com o ts\n",
    "                prox_atend += myfunctions.va_exp(mu, gerador)\n",
    "            else:\n",
    "                # se a fila estiver vazia, o termino do próximo atendimento\n",
    "                # é incrementando com o (tc + ts)\n",
    "                prox_atend = prox_chegada + myfunctions.va_exp(mu, gerador)\n",
    "            x += 1\n",
    "        \n",
    "        xn = myfunctions.mean(espera)\n",
    "        std = np.std(espera)\n",
    "        H = st.t.ppf(q=1. - .05 / 2., df=n-1) * std\n",
    "        print(f'H={H}, X(n)={xn}, n={n}')\n",
    "        n += batch\n",
    "        espera = np.resize(espera, (n, ))\n",
    "        \n",
    "    return (H, xn, n, espera)"
   ]
  },
  {
   "cell_type": "code",
   "execution_count": 98,
   "id": "47e2c6ed",
   "metadata": {},
   "outputs": [
    {
     "name": "stdout",
     "output_type": "stream",
     "text": [
      "H=0.23086778937644267, X(n)=0.1513486929723388, n=10\n",
      "H = 0.23086778937644267\n",
      "Xn = 0.1513486929723388\n",
      "n = 11\n",
      "\n"
     ]
    }
   ],
   "source": [
    "g5 = myfunctions.G5RandomGenerator()\n",
    "g5.reset() # reinicia o gerador com a seed para replicação de resultados\n",
    "\n",
    "H, Xn, n, espera = mm1_v3(.05, 1, tc, ts, g5)\n",
    "\n",
    "print(f'H = {H}')\n",
    "print(f'Xn = {Xn}')\n",
    "print(f'n = {n}')\n",
    "print()"
   ]
  }
 ],
 "metadata": {
  "kernelspec": {
   "display_name": "Python 3 (ipykernel)",
   "language": "python",
   "name": "python3"
  },
  "language_info": {
   "codemirror_mode": {
    "name": "ipython",
    "version": 3
   },
   "file_extension": ".py",
   "mimetype": "text/x-python",
   "name": "python",
   "nbconvert_exporter": "python",
   "pygments_lexer": "ipython3",
   "version": "3.10.9"
  }
 },
 "nbformat": 4,
 "nbformat_minor": 5
}
