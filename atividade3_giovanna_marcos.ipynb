{
 "cells": [
  {
   "cell_type": "markdown",
   "id": "6245c626",
   "metadata": {},
   "source": [
    "# ICC305 Avaliação de Desempenho - 2023/1\n",
    "\n",
    "## Atividade 3\n",
    "\n",
    "**Giovanna** Andrade Santos - 22052563\n",
    "\n",
    "**Marcos** Avner Pimenta de Lima - 21852448"
   ]
  },
  {
   "cell_type": "code",
   "execution_count": 2,
   "id": "81b0e0f9",
   "metadata": {},
   "outputs": [],
   "source": [
    "import pandas as pd\n",
    "import numpy as np\n",
    "import scipy.stats as st\n",
    "import seaborn as sns\n",
    "import math\n",
    "\n",
    "from scipy.stats import chisquare\n",
    "from scipy.stats import chi2_contingency\n",
    "\n",
    "from ad_library import myfunctions\n",
    "from collections import defaultdict"
   ]
  },
  {
   "cell_type": "code",
   "execution_count": 3,
   "id": "c81c0b53",
   "metadata": {},
   "outputs": [],
   "source": [
    "#nº de clientes\n",
    "n1 = 10 ** 3\n",
    "n2 = 10 ** 6\n",
    "n3 = 10 ** 9\n",
    "n4 = 10 ** 12\n",
    "\n",
    "#taxa de entrada --> 9 clientes/s\n",
    "tc = 9\n",
    "\n",
    "#taxa de serviço --> 10 clientes/s\n",
    "ts = 10"
   ]
  },
  {
   "cell_type": "markdown",
   "id": "2ef191d9",
   "metadata": {},
   "source": [
    "# https://introcs.cs.princeton.edu/python/43stack/mm1queue.py"
   ]
  },
  {
   "cell_type": "code",
   "execution_count": 4,
   "id": "7d8cfc9e",
   "metadata": {},
   "outputs": [],
   "source": [
    "# Accept float command-line arguments lamb and mu. Simulate an\n",
    "# M/M/1 queue with arrival rate lamb and service rate mu.\n",
    "def mm1(n=1000, tc=9., ts=10., gerador=myfunctions.G5RandomGenerator()):\n",
    "    lamb = 1. / tc\n",
    "    mu = 1. / ts\n",
    "    fila = list() # fila de espera\n",
    "    espera = np.zeros((1,n), dtype=int)\n",
    "    cont = 0\n",
    "    \n",
    "    prox_chegada = myfunctions.va_exp(lamb, gerador) # computa o tempo da proxima chegada.\n",
    "    prox_atend = prox_chegada + myfunctions.va_exp(mu, gerador) # computa o tempo da conclusao do proximo atendimento.\n",
    "    \n",
    "    # Simulate the M/M/1 queue.\n",
    "    while n > 0:\n",
    "\n",
    "        while prox_chegada < prox_atend:\n",
    "            # simula a proxima chegada\n",
    "            fila.append(prox_chegada)\n",
    "            prox_chegada += myfunctions.va_exp(lamb, gerador)\n",
    "\n",
    "        # Next event is a service completion.\n",
    "        if fila:\n",
    "            chegada = fila.pop(0)\n",
    "            espera[0][cont] = int((prox_atend - chegada)*1000)\n",
    "            cont += 1\n",
    "\n",
    "        # atualiza a fila de espera.\n",
    "        if fila:\n",
    "            # se a fila não estiver vazia, o termino do proximo atendimento \n",
    "            # é incrementando com o ts\n",
    "            prox_atend += myfunctions.va_exp(mu, gerador)\n",
    "        else:\n",
    "            # se a fila estiver vazia, o termino do próximo atendimento\n",
    "            # é incrementando com o (tc + ts)\n",
    "            prox_atend = prox_chegada + myfunctions.va_exp(mu, gerador)\n",
    "        \n",
    "        n -= 1\n",
    "    return espera[0]"
   ]
  },
  {
   "cell_type": "code",
   "execution_count": 5,
   "id": "bcdea6d5",
   "metadata": {},
   "outputs": [],
   "source": [
    "#função para calcular intervalo de confiança\n",
    "def ic(n, media, values: list, alpha=.05):\n",
    "    std = np.std(values)\n",
    "    H = st.t.ppf(q=1. - alpha / 2., df=n-1) * std\n",
    "    li = media - H\n",
    "    ls = media + H\n",
    "    return (li, ls)"
   ]
  },
  {
   "cell_type": "code",
   "execution_count": 6,
   "id": "e04f76a3",
   "metadata": {
    "scrolled": true
   },
   "outputs": [
    {
     "name": "stdout",
     "output_type": "stream",
     "text": [
      "N: 1000\n",
      "Espera total: 673838\n",
      "Espera Média: 673.838\n",
      "Espera IC: (-396.5929554419736, 1744.2689554419735)\n",
      "\n",
      "N: 1000000\n",
      "Espera total: 1003611329\n",
      "Espera Média: 1003.611329\n",
      "Espera IC: (-961.434759208849, 2968.657417208849)\n",
      "\n"
     ]
    },
    {
     "ename": "KeyboardInterrupt",
     "evalue": "",
     "output_type": "error",
     "traceback": [
      "\u001b[0;31m---------------------------------------------------------------------------\u001b[0m",
      "\u001b[0;31mKeyboardInterrupt\u001b[0m                         Traceback (most recent call last)",
      "\u001b[0;32m/tmp/ipykernel_9125/3411453740.py\u001b[0m in \u001b[0;36m<module>\u001b[0;34m\u001b[0m\n\u001b[1;32m      3\u001b[0m \u001b[0;34m\u001b[0m\u001b[0m\n\u001b[1;32m      4\u001b[0m \u001b[0;32mfor\u001b[0m \u001b[0mn\u001b[0m \u001b[0;32min\u001b[0m \u001b[0;34m[\u001b[0m\u001b[0mn1\u001b[0m\u001b[0;34m,\u001b[0m \u001b[0mn2\u001b[0m\u001b[0;34m,\u001b[0m \u001b[0mn3\u001b[0m\u001b[0;34m]\u001b[0m\u001b[0;34m:\u001b[0m\u001b[0;34m\u001b[0m\u001b[0;34m\u001b[0m\u001b[0m\n\u001b[0;32m----> 5\u001b[0;31m     \u001b[0mtot_espera\u001b[0m \u001b[0;34m=\u001b[0m \u001b[0mmm1\u001b[0m\u001b[0;34m(\u001b[0m\u001b[0mn\u001b[0m\u001b[0;34m,\u001b[0m \u001b[0mtc\u001b[0m\u001b[0;34m,\u001b[0m \u001b[0mts\u001b[0m\u001b[0;34m,\u001b[0m \u001b[0mg5\u001b[0m\u001b[0;34m)\u001b[0m\u001b[0;34m\u001b[0m\u001b[0;34m\u001b[0m\u001b[0m\n\u001b[0m\u001b[1;32m      6\u001b[0m     \u001b[0msoma\u001b[0m \u001b[0;34m=\u001b[0m \u001b[0mnp\u001b[0m\u001b[0;34m.\u001b[0m\u001b[0msum\u001b[0m\u001b[0;34m(\u001b[0m\u001b[0mtot_espera\u001b[0m\u001b[0;34m)\u001b[0m\u001b[0;34m\u001b[0m\u001b[0;34m\u001b[0m\u001b[0m\n\u001b[1;32m      7\u001b[0m     \u001b[0mmedia\u001b[0m \u001b[0;34m=\u001b[0m \u001b[0mmyfunctions\u001b[0m\u001b[0;34m.\u001b[0m\u001b[0mmean\u001b[0m\u001b[0;34m(\u001b[0m\u001b[0mtot_espera\u001b[0m\u001b[0;34m)\u001b[0m\u001b[0;34m\u001b[0m\u001b[0;34m\u001b[0m\u001b[0m\n",
      "\u001b[0;32m/tmp/ipykernel_9125/308809071.py\u001b[0m in \u001b[0;36mmm1\u001b[0;34m(n, tc, ts, gerador)\u001b[0m\n\u001b[1;32m     33\u001b[0m             \u001b[0;31m# se a fila estiver vazia, o termino do próximo atendimento\u001b[0m\u001b[0;34m\u001b[0m\u001b[0;34m\u001b[0m\u001b[0m\n\u001b[1;32m     34\u001b[0m             \u001b[0;31m# é incrementando com o (tc + ts)\u001b[0m\u001b[0;34m\u001b[0m\u001b[0;34m\u001b[0m\u001b[0m\n\u001b[0;32m---> 35\u001b[0;31m             \u001b[0mprox_atend\u001b[0m \u001b[0;34m=\u001b[0m \u001b[0mprox_chegada\u001b[0m \u001b[0;34m+\u001b[0m \u001b[0mmyfunctions\u001b[0m\u001b[0;34m.\u001b[0m\u001b[0mva_exp\u001b[0m\u001b[0;34m(\u001b[0m\u001b[0mmu\u001b[0m\u001b[0;34m,\u001b[0m \u001b[0mgerador\u001b[0m\u001b[0;34m)\u001b[0m\u001b[0;34m\u001b[0m\u001b[0;34m\u001b[0m\u001b[0m\n\u001b[0m\u001b[1;32m     36\u001b[0m \u001b[0;34m\u001b[0m\u001b[0m\n\u001b[1;32m     37\u001b[0m         \u001b[0mn\u001b[0m \u001b[0;34m-=\u001b[0m \u001b[0;36m1\u001b[0m\u001b[0;34m\u001b[0m\u001b[0;34m\u001b[0m\u001b[0m\n",
      "\u001b[0;32m~/Documentos/ad_tp3/ad_library/myfunctions.py\u001b[0m in \u001b[0;36mva_exp\u001b[0;34m(beta, gerador)\u001b[0m\n\u001b[1;32m    313\u001b[0m \u001b[0;32mdef\u001b[0m \u001b[0mva_exp\u001b[0m\u001b[0;34m(\u001b[0m\u001b[0mbeta\u001b[0m\u001b[0;34m,\u001b[0m \u001b[0mgerador\u001b[0m\u001b[0;34m)\u001b[0m\u001b[0;34m:\u001b[0m\u001b[0;34m\u001b[0m\u001b[0;34m\u001b[0m\u001b[0m\n\u001b[1;32m    314\u001b[0m     \u001b[0mU\u001b[0m \u001b[0;34m=\u001b[0m \u001b[0mgerador\u001b[0m\u001b[0;34m.\u001b[0m\u001b[0mnext\u001b[0m\u001b[0;34m(\u001b[0m\u001b[0;34m)\u001b[0m\u001b[0;34m\u001b[0m\u001b[0;34m\u001b[0m\u001b[0m\n\u001b[0;32m--> 315\u001b[0;31m     \u001b[0;32mreturn\u001b[0m \u001b[0;34m-\u001b[0m\u001b[0mbeta\u001b[0m \u001b[0;34m*\u001b[0m \u001b[0mmath\u001b[0m\u001b[0;34m.\u001b[0m\u001b[0mlog\u001b[0m\u001b[0;34m(\u001b[0m\u001b[0;36m1\u001b[0m \u001b[0;34m-\u001b[0m \u001b[0mU\u001b[0m\u001b[0;34m)\u001b[0m\u001b[0;34m\u001b[0m\u001b[0;34m\u001b[0m\u001b[0m\n\u001b[0m\u001b[1;32m    316\u001b[0m \u001b[0;34m\u001b[0m\u001b[0m\n\u001b[1;32m    317\u001b[0m \u001b[0;32mdef\u001b[0m \u001b[0mvalor_esperado\u001b[0m\u001b[0;34m(\u001b[0m\u001b[0mlamb\u001b[0m\u001b[0;34m,\u001b[0m \u001b[0mmi\u001b[0m\u001b[0;34m)\u001b[0m\u001b[0;34m:\u001b[0m\u001b[0;34m\u001b[0m\u001b[0;34m\u001b[0m\u001b[0m\n",
      "\u001b[0;31mKeyboardInterrupt\u001b[0m: "
     ]
    }
   ],
   "source": [
    "g5 = myfunctions.G5RandomGenerator()\n",
    "g5.reset()\n",
    "\n",
    "for n in [n1, n2, n3]:    \n",
    "    tot_espera = mm1(n, tc, ts, g5)\n",
    "    soma = np.sum(tot_espera)\n",
    "    media = myfunctions.mean(tot_espera)\n",
    "    inter_conf = ic(n, media, tot_espera)\n",
    "    print(f'N: {n}')\n",
    "    print(f'Espera total: {soma}')\n",
    "    print(f'Espera Média: {media}')\n",
    "    print(f'Espera IC: {inter_conf}')\n",
    "    print()"
   ]
  },
  {
   "cell_type": "code",
   "execution_count": 30,
   "id": "19bf4aff",
   "metadata": {},
   "outputs": [
    {
     "name": "stdout",
     "output_type": "stream",
     "text": [
      "O valor esperado do tempo de espera para os valores de lambda e mi é 0.9000000000000002\n"
     ]
    }
   ],
   "source": [
    "valor_esperado = myfunctions.valor_esperado(tc, ts)\n",
    "print(f'O valor esperado do tempo de espera para os valores de lambda e mi é {valor_esperado}')"
   ]
  },
  {
   "cell_type": "code",
   "execution_count": null,
   "id": "5b6e88e1",
   "metadata": {},
   "outputs": [],
   "source": []
  },
  {
   "cell_type": "code",
   "execution_count": 31,
   "id": "fd912122",
   "metadata": {},
   "outputs": [],
   "source": []
  },
  {
   "cell_type": "code",
   "execution_count": 35,
   "id": "a7c4cfe2",
   "metadata": {},
   "outputs": [
    {
     "name": "stdout",
     "output_type": "stream",
     "text": [
      "Intervalo de confiança é (-0.3966741950472672, 1.74532996122303)\n"
     ]
    }
   ],
   "source": [
    "alpha = .05\n"
   ]
  }
 ],
 "metadata": {
  "kernelspec": {
   "display_name": "Python 3 (ipykernel)",
   "language": "python",
   "name": "python3"
  },
  "language_info": {
   "codemirror_mode": {
    "name": "ipython",
    "version": 3
   },
   "file_extension": ".py",
   "mimetype": "text/x-python",
   "name": "python",
   "nbconvert_exporter": "python",
   "pygments_lexer": "ipython3",
   "version": "3.9.13"
  }
 },
 "nbformat": 4,
 "nbformat_minor": 5
}
