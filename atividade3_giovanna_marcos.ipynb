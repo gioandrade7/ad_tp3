{
 "cells": [
  {
   "cell_type": "markdown",
   "id": "6245c626",
   "metadata": {},
   "source": [
    "# ICC305 Avaliação de Desempenho - 2023/1\n",
    "\n",
    "## Atividade 3\n",
    "\n",
    "**Giovanna** Andrade Santos - 22052563\n",
    "\n",
    "**Marcos** Avner Pimenta de Lima - 21852448"
   ]
  },
  {
   "cell_type": "code",
   "execution_count": 1,
   "id": "81b0e0f9",
   "metadata": {},
   "outputs": [],
   "source": [
    "import pandas as pd\n",
    "import numpy as np\n",
    "import scipy.stats as st\n",
    "import seaborn as sns\n",
    "import math\n",
    "\n",
    "from scipy.stats import chisquare\n",
    "from scipy.stats import chi2_contingency\n",
    "\n",
    "from ad_library import myfunctions\n",
    "from collections import defaultdict"
   ]
  },
  {
   "cell_type": "markdown",
   "id": "b4eb9895",
   "metadata": {},
   "source": [
    "### Gerador G5 (Python)"
   ]
  },
  {
   "cell_type": "code",
   "execution_count": 5,
   "id": "fb0f0b36",
   "metadata": {},
   "outputs": [],
   "source": [
    "import random\n",
    "\n",
    "class G5RandomGenerator():\n",
    "    \n",
    "    def __init__(self, seed=0):\n",
    "        self.__n0 = seed\n",
    "        random.seed(self.__n0)\n",
    "    \n",
    "    # gera o próximo número com base no último número gerado\n",
    "    def next(self):\n",
    "        return random.random()\n",
    "    \n",
    "    # reinicia o gerador\n",
    "    def reset(self):\n",
    "        random.seed(self.__n0)"
   ]
  },
  {
   "cell_type": "markdown",
   "id": "038fe034",
   "metadata": {},
   "source": [
    "### Geração de uma V.A. Exponencial"
   ]
  },
  {
   "cell_type": "code",
   "execution_count": 72,
   "id": "25406dc2",
   "metadata": {},
   "outputs": [],
   "source": [
    "def va_exp(gerador, beta):\n",
    "    U = gerador.next()\n",
    "    return -beta * math.log(1 - U)"
   ]
  },
  {
   "cell_type": "code",
   "execution_count": 48,
   "id": "c81c0b53",
   "metadata": {},
   "outputs": [],
   "source": [
    "#nº de clientes\n",
    "n1 = 10 ** 3\n",
    "n2 = 10 ** 6\n",
    "n3 = 10 ** 9\n",
    "n4 = 10 ** 12\n",
    "\n",
    "#taxa de entrada --> 9 clientes/s\n",
    "tc = 9\n",
    "\n",
    "#taxa de serviço --> 10 clientes/s\n",
    "ts = 10"
   ]
  },
  {
   "cell_type": "markdown",
   "id": "2ef191d9",
   "metadata": {},
   "source": [
    "# https://introcs.cs.princeton.edu/python/43stack/mm1queue.py"
   ]
  },
  {
   "cell_type": "code",
   "execution_count": 62,
   "id": "7d8cfc9e",
   "metadata": {},
   "outputs": [],
   "source": [
    "def va_exp(beta, gerador):\n",
    "    return -beta * math.log(1 - gerador.next())\n",
    "\n",
    "# Accept float command-line arguments lamb and mu. Simulate an\n",
    "# M/M/1 queue with arrival rate lamb and service rate mu.\n",
    "def mm1(n=1000, tc=9., ts=10., gerador=G5RandomGenerator()):\n",
    "    lamb = 1. / tc\n",
    "    mu = 1. / ts\n",
    "    fila = list() # fila de espera\n",
    "    espera = 0\n",
    "    \n",
    "    prox_chegada = va_exp(lamb, gerador) # computa o tempo da proxima chegada.\n",
    "    prox_atend = prox_chegada + va_exp(mu, gerador) # computa o tempo da conclusao do proximo atendimento.\n",
    "    \n",
    "    # Simulate the M/M/1 queue.\n",
    "    while n > 0:\n",
    "\n",
    "        while prox_chegada < prox_atend:\n",
    "            # simula a proxima chegada\n",
    "            fila.append(prox_chegada)\n",
    "            prox_chegada += va_exp(lamb, gerador)\n",
    "\n",
    "        # Next event is a service completion.\n",
    "        if fila:\n",
    "            chegada = fila.pop(0)\n",
    "            espera += prox_atend - chegada\n",
    "\n",
    "        # atualiza a fila de espera.\n",
    "        if fila:\n",
    "            # se a fila não estiver vazia, o termino do proximo atendimento \n",
    "            # é incrementando com o ts\n",
    "            prox_atend += va_exp(mu, gerador)\n",
    "        else:\n",
    "            # se a fila estiver vazia, o termino do próximo atendimento\n",
    "            # é incrementando com o (tc + ts)\n",
    "            prox_atend = prox_chegada + va_exp(mu, gerador)\n",
    "        \n",
    "        n -= 1\n",
    "    return espera"
   ]
  },
  {
   "cell_type": "code",
   "execution_count": 64,
   "id": "e04f76a3",
   "metadata": {},
   "outputs": [
    {
     "name": "stdout",
     "output_type": "stream",
     "text": [
      "N: 1000\n",
      "Espera total: 674.3278830878813\n",
      "Espera Média: 0.6743278830878814\n",
      "\n",
      "N: 1000000\n",
      "Espera total: 1003381.2442020037\n",
      "Espera Média: 1.0033812442020038\n",
      "\n",
      "N: 1000000000\n",
      "Espera total: 1001133126.5219395\n",
      "Espera Média: 1.0011331265219394\n",
      "\n"
     ]
    }
   ],
   "source": [
    "g5 = G5RandomGenerator()\n",
    "g5.reset()\n",
    "\n",
    "for n in [n1, n2, n3]:    \n",
    "    tot_espera = mm1(n, tc, ts, g5)\n",
    "    print(f'N: {n}')\n",
    "    print(f'Espera total: {tot_espera}')\n",
    "    print(f'Espera Média: {tot_espera / n}')\n",
    "    print()"
   ]
  }
 ],
 "metadata": {
  "kernelspec": {
   "display_name": "Python 3 (ipykernel)",
   "language": "python",
   "name": "python3"
  },
  "language_info": {
   "codemirror_mode": {
    "name": "ipython",
    "version": 3
   },
   "file_extension": ".py",
   "mimetype": "text/x-python",
   "name": "python",
   "nbconvert_exporter": "python",
   "pygments_lexer": "ipython3",
   "version": "3.10.9"
  }
 },
 "nbformat": 4,
 "nbformat_minor": 5
}
