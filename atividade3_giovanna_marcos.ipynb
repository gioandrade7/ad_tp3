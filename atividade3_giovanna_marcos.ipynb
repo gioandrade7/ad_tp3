{
 "cells": [
  {
   "cell_type": "markdown",
   "id": "6245c626",
   "metadata": {},
   "source": [
    "# ICC305 Avaliação de Desempenho - 2023/1\n",
    "\n",
    "## Atividade 3\n",
    "\n",
    "**Giovanna** Andrade Santos - 22052563\n",
    "\n",
    "**Marcos** Avner Pimenta de Lima - 21852448"
   ]
  },
  {
   "cell_type": "code",
   "execution_count": 16,
   "id": "81b0e0f9",
   "metadata": {},
   "outputs": [],
   "source": [
    "import pandas as pd\n",
    "import numpy as np\n",
    "import scipy.stats as st\n",
    "import seaborn as sns\n",
    "import math\n",
    "import time\n",
    "\n",
    "from scipy.stats import chisquare\n",
    "from scipy.stats import chi2_contingency\n",
    "\n",
    "from ad_library import myfunctions\n",
    "from collections import defaultdict"
   ]
  },
  {
   "cell_type": "markdown",
   "id": "aabb853c",
   "metadata": {},
   "source": [
    "## Parte 1"
   ]
  },
  {
   "cell_type": "code",
   "execution_count": 2,
   "id": "c81c0b53",
   "metadata": {},
   "outputs": [],
   "source": [
    "#nº de clientes\n",
    "n1 = 10 ** 3\n",
    "n2 = 10 ** 6\n",
    "n3 = 10 ** 9\n",
    "n4 = 10 ** 12\n",
    "\n",
    "#taxa de entrada --> 9 clientes/s\n",
    "tc = 9\n",
    "\n",
    "#taxa de serviço --> 10 clientes/s\n",
    "ts = 10"
   ]
  },
  {
   "cell_type": "markdown",
   "id": "2ef191d9",
   "metadata": {},
   "source": [
    "# https://introcs.cs.princeton.edu/python/43stack/mm1queue.py"
   ]
  },
  {
   "cell_type": "code",
   "execution_count": 14,
   "id": "7d8cfc9e",
   "metadata": {},
   "outputs": [],
   "source": [
    "# Accept float command-line arguments lamb and mu. Simulate an\n",
    "# M/M/1 queue with arrival rate lamb and service rate mu.\n",
    "def mm1(n=1000, tc=9., ts=10., gerador=myfunctions.G5RandomGenerator()):\n",
    "    lamb = 1. / tc\n",
    "    mu = 1. / ts\n",
    "    fila = list() # fila de espera\n",
    "    # espera = np.zeros(n)\n",
    "    # o vetor de tempos de espera irá armazenar valores em milisegundos (inteiros)\n",
    "    # isso é para economizar memória RAM\n",
    "    espera = np.zeros(n, dtype='uint16')\n",
    "    cont = 0\n",
    "    \n",
    "    prox_chegada = myfunctions.va_exp(lamb, gerador) # computa o tempo da proxima chegada.\n",
    "    prox_atend = prox_chegada + myfunctions.va_exp(mu, gerador) # computa o tempo da conclusao do proximo atendimento.\n",
    "    \n",
    "    # inicia a simulação da fila MM1.\n",
    "    while n > 0:\n",
    "\n",
    "        while prox_chegada < prox_atend:\n",
    "            # simula a proxima chegada\n",
    "            fila.append(prox_chegada)\n",
    "            prox_chegada += myfunctions.va_exp(lamb, gerador)\n",
    "\n",
    "        # Next event is a service completion.\n",
    "        if fila:\n",
    "            chegada = fila.pop(0)\n",
    "            # para redução do consumo de RAM os tempos de espera são convertidos para milisegundos (inteiros)\n",
    "            espera[cont] = int((prox_atend - chegada) * 1000) \n",
    "            # espera[cont] = prox_atend - chegada\n",
    "            cont += 1\n",
    "\n",
    "        # atualiza a fila de espera.\n",
    "        if fila:\n",
    "            # se a fila não estiver vazia, o termino do proximo atendimento \n",
    "            # é incrementando com o ts\n",
    "            prox_atend += myfunctions.va_exp(mu, gerador)\n",
    "        else:\n",
    "            # se a fila estiver vazia, o termino do próximo atendimento\n",
    "            # é incrementando com o (tc + ts)\n",
    "            prox_atend = prox_chegada + myfunctions.va_exp(mu, gerador)\n",
    "        \n",
    "        n -= 1\n",
    "    return espera"
   ]
  },
  {
   "cell_type": "code",
   "execution_count": 6,
   "id": "bcdea6d5",
   "metadata": {},
   "outputs": [],
   "source": [
    "#função para calcular intervalo de confiança\n",
    "def ic(n, media, values: list, alpha=.05):\n",
    "    std = np.std(values)\n",
    "    H = st.t.ppf(q=1. - alpha / 2., df=n-1) * std\n",
    "    li = media - H\n",
    "    ls = media + H\n",
    "    return (li, ls)"
   ]
  },
  {
   "cell_type": "code",
   "execution_count": 18,
   "id": "0679f92b",
   "metadata": {},
   "outputs": [
    {
     "name": "stdout",
     "output_type": "stream",
     "text": [
      "Iniciando simulação para n=1000\n",
      "Fim da simulação!\n",
      "Tempo: 0.055075883865356445ms\n",
      "Salvando tempos de espera\n",
      "Calculando intervalo de confiança\n",
      "N: 1000\n",
      "Espera total: 673838 ms\n",
      "Espera Média: 673.838 ms\n",
      "Espera IC: (-396.5929554419736, 1744.2689554419735) ms\n",
      "\n",
      "Iniciando simulação para n=1000000\n",
      "Fim da simulação!\n",
      "Tempo: 0.9812638759613037ms\n",
      "Salvando tempos de espera\n",
      "Calculando intervalo de confiança\n",
      "N: 1000000\n",
      "Espera total: 1003611329 ms\n",
      "Espera Média: 1003.611329 ms\n",
      "Espera IC: (-961.434759208849, 2968.657417208849) ms\n",
      "\n",
      "Iniciando simulação para n=1000000000\n",
      "Fim da simulação!\n",
      "Tempo: 1006.5161719322205ms\n",
      "Salvando tempos de espera\n",
      "Calculando intervalo de confiança\n",
      "N: 1000000000\n",
      "Espera total: 1000629351149 ms\n",
      "Espera Média: 1000.629351149 ms\n",
      "Espera IC: (-964.2031208617949, 2965.4618231597947) ms\n",
      "\n"
     ]
    }
   ],
   "source": [
    "g5 = myfunctions.G5RandomGenerator()\n",
    "g5.reset() # reinicia o gerador com a seed para replicação de resultados\n",
    "\n",
    "for n in [n1, n2, n3]:    \n",
    "    print(f'Iniciando simulação para n={n}')\n",
    "    start = time.time()\n",
    "    tot_espera = mm1(n, tc, ts, g5)\n",
    "    end = time.time()\n",
    "    print(f'Fim da simulação!')\n",
    "    print(f'Tempo: {end-start} ms')\n",
    "    \n",
    "    print('Salvando tempos de espera')\n",
    "    with open(f'mm1_n{n}', 'wb') as f:\n",
    "        np.save(f, tot_espera)\n",
    "        \n",
    "    print('Calculando intervalo de confiança')\n",
    "    soma = np.sum(tot_espera)\n",
    "    media = myfunctions.mean(tot_espera)\n",
    "    inter_conf = ic(n, media, tot_espera)\n",
    "    \n",
    "    print(f'N: {n}')\n",
    "    print(f'Espera total: {soma} ms')\n",
    "    print(f'Espera Média: {media} ms')\n",
    "    print(f'Espera IC: {inter_conf} ms')\n",
    "    print()"
   ]
  },
  {
   "cell_type": "code",
   "execution_count": 23,
   "id": "19bf4aff",
   "metadata": {},
   "outputs": [
    {
     "name": "stdout",
     "output_type": "stream",
     "text": [
      "O valor esperado do tempo de espera para os valores de lambda e mi é 0.9 segundos\n"
     ]
    }
   ],
   "source": [
    "valor_esperado = myfunctions.valor_esperado(tc, ts)\n",
    "print(f'O valor esperado do tempo de espera para os valores de lambda e mi é {valor_esperado:.5} segundos')"
   ]
  },
  {
   "cell_type": "markdown",
   "id": "1710f7a7",
   "metadata": {},
   "source": [
    "O valor médio esperado é de aproximadamente `0.9 segundos`.\n",
    "\n",
    "Para `n=1000` o tempo médio $\\overline{X}(n)$ foi de aproximadamente `0.673 segundos` bem longe do valor esperado, embora o intervalo de confiança `[-0.396, 1.733]`  contenha o valor esperado.\n",
    "\n",
    "Para `n=1000000` o tempo médio $\\overline{X}(n)$ foi de aproximadamente `1.003 segundos`, mais próximo do valor esperado, e o intervalo de confiança `[-0.961, 2.968]` também contem o valor esperado.\n",
    "\n",
    "Para `n=1000000000` o tempo médio $\\overline{X}(n)$ foi de aproximadamente `1.000 segundos`, um pouco mais próximo do valor esperado, e novamente intervalo de confiança `[-0.961, 2.968]` contem o valor esperado."
   ]
  },
  {
   "cell_type": "markdown",
   "id": "fcf75d29",
   "metadata": {},
   "source": [
    "## Parte 2"
   ]
  },
  {
   "cell_type": "code",
   "execution_count": 31,
   "id": "fd912122",
   "metadata": {},
   "outputs": [],
   "source": []
  },
  {
   "cell_type": "code",
   "execution_count": 35,
   "id": "a7c4cfe2",
   "metadata": {},
   "outputs": [
    {
     "name": "stdout",
     "output_type": "stream",
     "text": [
      "Intervalo de confiança é (-0.3966741950472672, 1.74532996122303)\n"
     ]
    }
   ],
   "source": []
  }
 ],
 "metadata": {
  "kernelspec": {
   "display_name": "Python 3 (ipykernel)",
   "language": "python",
   "name": "python3"
  },
  "language_info": {
   "codemirror_mode": {
    "name": "ipython",
    "version": 3
   },
   "file_extension": ".py",
   "mimetype": "text/x-python",
   "name": "python",
   "nbconvert_exporter": "python",
   "pygments_lexer": "ipython3",
   "version": "3.10.9"
  }
 },
 "nbformat": 4,
 "nbformat_minor": 5
}
